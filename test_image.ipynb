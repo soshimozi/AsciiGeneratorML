{
 "cells": [
  {
   "cell_type": "code",
   "execution_count": 1,
   "metadata": {},
   "outputs": [],
   "source": [
    "from PIL import Image\n",
    "import requests\n",
    "im = Image.open(requests.get('https://picsum.photos/512', stream=True).raw)\n",
    "im.show()"
   ]
  },
  {
   "cell_type": "code",
   "execution_count": 3,
   "metadata": {},
   "outputs": [
    {
     "name": "stdout",
     "output_type": "stream",
     "text": [
      "Collecting colour\n",
      "  Downloading colour-0.1.5-py2.py3-none-any.whl.metadata (18 kB)\n",
      "Downloading colour-0.1.5-py2.py3-none-any.whl (23 kB)\n",
      "Installing collected packages: colour\n",
      "Successfully installed colour-0.1.5\n"
     ]
    }
   ],
   "source": []
  },
  {
   "cell_type": "code",
   "execution_count": 2,
   "metadata": {},
   "outputs": [],
   "source": [
    "from PIL import Image, ImageDraw, ImageFont\n",
    "from colour import Color\n",
    "import numpy as np"
   ]
  },
  {
   "cell_type": "code",
   "execution_count": 8,
   "metadata": {},
   "outputs": [],
   "source": [
    "\n",
    "def asciiart(in_f, SC, GCF,  out_f, color1='black', color2='blue', bgcolor='white'):\n",
    "\n",
    "    # The array of ascii symbols from white to black\n",
    "    chars = np.asarray(list(' .,:irs?@9B'))\n",
    "\n",
    "    # Load the fonts and then get the the height and width of a typical symbol \n",
    "    # You can use different fonts here\n",
    "    font = ImageFont.load_default()\n",
    "    letter_width = font.getsize(\"x\")[0]\n",
    "    letter_height = font.getsize(\"x\")[1]\n",
    "\n",
    "    print(f'letter_width : ', letter_width)\n",
    "    print(f'letter_width : ', letter_height)\n",
    "\n",
    "    WCF = letter_height/letter_width\n",
    "\n",
    "    #open the input file\n",
    "    #img = Image.open(in_f)\n",
    "    img = in_f\n",
    "\n",
    "    widthByLetter=round(img.size[0]*SC*WCF)\n",
    "    heightByLetter = round(img.size[1]*SC)\n",
    "    S = (widthByLetter, heightByLetter)\n",
    "\n",
    "    #Resize the image based on the symbol width and height\n",
    "    img = img.resize(S)\n",
    "    \n",
    "    img = np.sum(np.asarray(img), axis=2)\n",
    "    \n",
    "    # Normalize the results, enhance and reduce the brightness contrast. \n",
    "    # Map grayscale values to bins of symbols\n",
    "    img -= img.min()\n",
    "    img = (1.0 - img/img.max())**GCF*(chars.size-1)\n",
    "    \n",
    "    # Generate the ascii art symbols \n",
    "    lines = (\"\\n\".join( (\"\".join(r) for r in chars[img.astype(int)]) )).split(\"\\n\")\n",
    "\n",
    "    # Create gradient color bins\n",
    "    nbins = len(lines)\n",
    "    colorRange =list(Color(color1).range_to(Color(color2), nbins))\n",
    "\n",
    "    #Create an image object, set its width and height\n",
    "    newImg_width= letter_width *widthByLetter\n",
    "    newImg_height = letter_height * heightByLetter\n",
    "    newImg = Image.new(\"RGBA\", (newImg_width, newImg_height), bgcolor)\n",
    "    draw = ImageDraw.Draw(newImg)\n",
    "\n",
    "    # Print symbols to image\n",
    "    leftpadding=0\n",
    "    y = 0\n",
    "    lineIdx=0\n",
    "    for line in lines:\n",
    "        color = colorRange[lineIdx]\n",
    "        lineIdx +=1\n",
    "\n",
    "        draw.text((leftpadding, y), line, color.hex, font=font)\n",
    "        y += letter_height\n",
    "\n",
    "    # Save the image file\n",
    "\n",
    "    #out_f = out_f.resize((1280,720))\n",
    "    #newImg.save(out_f)\n",
    "        \n",
    "    return newImg\n"
   ]
  },
  {
   "cell_type": "code",
   "execution_count": 5,
   "metadata": {},
   "outputs": [],
   "source": [
    "#img = asciiart(im, 0.1, 2, \"results.png\", \"blue\", \"pink\")\n",
    "#img2 = asciiart(im, 0.1, 2)\n",
    "\n",
    "#img.show()"
   ]
  },
  {
   "cell_type": "code",
   "execution_count": 4,
   "metadata": {},
   "outputs": [],
   "source": [
    "def imgGen(img1,count):\n",
    "  inputf = img1  # Input image file name\n",
    "\n",
    "  SC = 0.1    # pixel sampling rate in width\n",
    "  GCF= 2      # contrast adjustment\n",
    "\n",
    "  img = img1\n",
    "  img2 = asciiart(inputf, SC, GCF, \"results.png\").resize(img.size)   #default color, black to blue\n",
    "  img3 = asciiart(inputf, SC, GCF, \"results_pink.png\",\"blue\",\"pink\").resize(img.size)\n",
    "\n",
    "  img.show()\n",
    "  img2.show()\n",
    "  img3.show()\n",
    "  \n",
    "  #img2 = Image.open('results.png').resize(img.size)\n",
    "  #img2.save('result.png')\n",
    "  #img3 = Image.open('results_pink.png').resize(img.size)\n",
    "  #img3.save('resultp.png')\n",
    "\n",
    "  images = [img2,img]#change\n",
    "  widths, heights = zip(*(i.size for i in images))\n",
    "\n",
    "  total_width = sum(widths)\n",
    "  max_height = max(heights)\n",
    "\n",
    "  new_im = Image.new('RGB', (total_width, max_height))\n",
    "\n",
    "  x_offset = 0\n",
    "  for im in images:\n",
    "    new_im.paste(im, (x_offset,0))\n",
    "    x_offset += im.size[0]\n",
    "\n",
    "  img4 = new_im.resize((1024,512))\n",
    "  #img4.save('drive/MyDrive/trainingAsciiGan/w11'+str(count)+'.jpg')\n",
    "  img4.show()\n",
    "\n",
    "  images = [img3,img]#change\n",
    "  widths, heights = zip(*(i.size for i in images))\n",
    "\n",
    "  total_width = sum(widths)\n",
    "  max_height = max(heights)\n",
    "\n",
    "  new_im = Image.new('RGB', (total_width, max_height))\n",
    "\n",
    "  x_offset = 0\n",
    "  for im in images:\n",
    "    new_im.paste(im, (x_offset,0))\n",
    "    x_offset += im.size[0]\n",
    "\n",
    "  img5 = new_im.resize((1024,512))\n",
    "  #img5.save('drive/MyDrive/trainingAsciiGan/w12'+str(count+1)+'.jpg')\n",
    "  img5.show()\n"
   ]
  },
  {
   "cell_type": "code",
   "execution_count": 9,
   "metadata": {},
   "outputs": [
    {
     "name": "stderr",
     "output_type": "stream",
     "text": [
      "C:\\Users\\Scott\\AppData\\Local\\Temp\\ipykernel_84784\\3432102496.py:9: DeprecationWarning: getsize is deprecated and will be removed in Pillow 10 (2023-07-01). Use getbbox or getlength instead.\n",
      "  letter_width = font.getsize(\"x\")[0]\n",
      "C:\\Users\\Scott\\AppData\\Local\\Temp\\ipykernel_84784\\3432102496.py:10: DeprecationWarning: getsize is deprecated and will be removed in Pillow 10 (2023-07-01). Use getbbox or getlength instead.\n",
      "  letter_height = font.getsize(\"x\")[1]\n"
     ]
    },
    {
     "name": "stdout",
     "output_type": "stream",
     "text": [
      "letter_width :  6\n",
      "letter_width :  11\n",
      "letter_width :  6\n",
      "letter_width :  11\n"
     ]
    }
   ],
   "source": [
    "imgGen(im, 1)"
   ]
  },
  {
   "cell_type": "code",
   "execution_count": null,
   "metadata": {},
   "outputs": [],
   "source": []
  }
 ],
 "metadata": {
  "kernelspec": {
   "display_name": "tensorflow",
   "language": "python",
   "name": "python3"
  },
  "language_info": {
   "codemirror_mode": {
    "name": "ipython",
    "version": 3
   },
   "file_extension": ".py",
   "mimetype": "text/x-python",
   "name": "python",
   "nbconvert_exporter": "python",
   "pygments_lexer": "ipython3",
   "version": "3.10.13"
  }
 },
 "nbformat": 4,
 "nbformat_minor": 2
}
